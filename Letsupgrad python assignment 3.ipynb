{
 "cells": [
  {
   "cell_type": "code",
   "execution_count": null,
   "metadata": {},
   "outputs": [],
   "source": [
    "#Python Program to merge two files into a third file"
   ]
  },
  {
   "cell_type": "code",
   "execution_count": 6,
   "metadata": {},
   "outputs": [
    {
     "ename": "NameError",
     "evalue": "name 'Path' is not defined",
     "output_type": "error",
     "traceback": [
      "\u001b[1;31m---------------------------------------------------------------------------\u001b[0m",
      "\u001b[1;31mNameError\u001b[0m                                 Traceback (most recent call last)",
      "\u001b[1;32m<ipython-input-6-54258d728d0d>\u001b[0m in \u001b[0;36m<module>\u001b[1;34m\u001b[0m\n\u001b[1;32m----> 1\u001b[1;33m \u001b[0mfirstfile\u001b[0m \u001b[1;33m=\u001b[0m \u001b[0mPath\u001b[0m\u001b[1;33m(\u001b[0m\u001b[1;34mr'C:\\Users\\Mayureshwar\\Desktop\\python/GFG.txt'\u001b[0m\u001b[1;33m)\u001b[0m\u001b[1;33m\u001b[0m\u001b[1;33m\u001b[0m\u001b[0m\n\u001b[0m\u001b[0;32m      2\u001b[0m \u001b[0msecondfile\u001b[0m \u001b[1;33m=\u001b[0m \u001b[0mPath\u001b[0m\u001b[1;33m(\u001b[0m\u001b[1;34mr'C:\\Users\\Mayureshwar\\Desktop\\python/CSE.txt'\u001b[0m\u001b[1;33m)\u001b[0m\u001b[1;33m\u001b[0m\u001b[1;33m\u001b[0m\u001b[0m\n\u001b[0;32m      3\u001b[0m \u001b[1;33m\u001b[0m\u001b[0m\n\u001b[0;32m      4\u001b[0m \u001b[0mnewfile\u001b[0m \u001b[1;33m=\u001b[0m \u001b[0minput\u001b[0m\u001b[1;33m(\u001b[0m\u001b[1;34m\"Enter the name of the new file: \"\u001b[0m\u001b[1;33m)\u001b[0m\u001b[1;33m\u001b[0m\u001b[1;33m\u001b[0m\u001b[0m\n\u001b[0;32m      5\u001b[0m \u001b[0mprint\u001b[0m\u001b[1;33m(\u001b[0m\u001b[1;33m)\u001b[0m\u001b[1;33m\u001b[0m\u001b[1;33m\u001b[0m\u001b[0m\n",
      "\u001b[1;31mNameError\u001b[0m: name 'Path' is not defined"
     ]
    }
   ],
   "source": [
    "firstfile = Path(r'C:\\Users\\Mayureshwar\\Desktop\\python\\GFG.txt') \n",
    "secondfile = Path(r'C:\\Users\\Mayureshwar\\Desktop\\python\\CSE.txt') \n",
    "  \n",
    "newfile = input(\"Enter the name of the new file: \") \n",
    "print() \n",
    "print(\"The merged content of the 2 files will be in\", newfile) \n",
    "  \n",
    "with open(newfile, \"wb\") as wfd: \n",
    "  \n",
    "    for f in [firstfile, secondfile]: \n",
    "        with open(f, \"rb\") as fd: \n",
    "            shutil.copyfileobj(fd, wfd, 1024 * 1024 * 10) \n",
    "  \n",
    "print(\"\\nThe content is merged successfully.!\") \n",
    "print(\"Do you want to view it ? (y / n): \") \n",
    "  \n",
    "check = input() \n",
    "if check == 'n': \n",
    "    exit() \n",
    "else: \n",
    "    print() \n",
    "    c = open(newfile, \"r\") \n",
    "    print(c.read()) \n",
    "    c.close() "
   ]
  },
  {
   "cell_type": "code",
   "execution_count": 7,
   "metadata": {},
   "outputs": [
    {
     "name": "stdout",
     "output_type": "stream",
     "text": [
      "Original list:\n",
      "[[1, 2, 3, 5], [2, 3, 5, 4], [0, 5, 4, 1], [3, 7, 2, 1], [1, 2, 1, 2]]\n",
      "Unique values of the said list of lists:\n",
      "[0, 1, 2, 3, 4, 5, 7]\n",
      "\n",
      "Original list:\n",
      "[['h', 'g', 'l', 'k'], ['a', 'b', 'd', 'e', 'c'], ['j', 'i', 'y'], ['n', 'b', 'v', 'c'], ['x', 'z']]\n",
      "Unique values of the said list of lists:\n",
      "['v', 'h', 'b', 'n', 'g', 'l', 'i', 'c', 'e', 'y', 'x', 'd', 'z', 'k', 'j', 'a']\n"
     ]
    }
   ],
   "source": [
    "def unique_values_in_list_of_lists(lst):\n",
    "    result = set(x for l in lst for x in l)\n",
    "    return list(result)\n",
    "nums = [[1,2,3,5], [2,3,5,4], [0,5,4,1], [3,7,2,1], [1,2,1,2]]\n",
    "print(\"Original list:\")\n",
    "print(nums)\n",
    "print(\"Unique values of the said list of lists:\")\n",
    "print(unique_values_in_list_of_lists(nums))\n",
    "chars = [['h','g','l','k'], ['a','b','d','e','c'], ['j','i','y'], ['n','b','v','c'], ['x','z']]\n",
    "print(\"\\nOriginal list:\")\n",
    "print(chars)\n",
    "print(\"Unique values of the said list of lists:\")\n",
    "print(unique_values_in_list_of_lists(chars))"
   ]
  },
  {
   "cell_type": "code",
   "execution_count": null,
   "metadata": {},
   "outputs": [],
   "source": []
  }
 ],
 "metadata": {
  "kernelspec": {
   "display_name": "Python 3",
   "language": "python",
   "name": "python3"
  },
  "language_info": {
   "codemirror_mode": {
    "name": "ipython",
    "version": 3
   },
   "file_extension": ".py",
   "mimetype": "text/x-python",
   "name": "python",
   "nbconvert_exporter": "python",
   "pygments_lexer": "ipython3",
   "version": "3.8.5"
  }
 },
 "nbformat": 4,
 "nbformat_minor": 4
}
